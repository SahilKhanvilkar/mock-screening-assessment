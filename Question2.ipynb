{
 "cells": [
  {
   "cell_type": "markdown",
   "id": "b2b3be73",
   "metadata": {},
   "source": [
    "## Decoraters and Abstract Example"
   ]
  },
  {
   "cell_type": "code",
   "execution_count": 1,
   "id": "ea12128e",
   "metadata": {},
   "outputs": [
    {
     "name": "stdout",
     "output_type": "stream",
     "text": [
      "area:  200\n"
     ]
    }
   ],
   "source": [
    "import abc\n",
    "class Shape(metaclass=abc.ABCMeta):\n",
    "   @abc.abstractmethod\n",
    "   def area(self):\n",
    "      pass\n",
    "class Rectangle(Shape):\n",
    "   def __init__(self, x,y):\n",
    "      self.l = x\n",
    "      self.b=y\n",
    "   def area(self):\n",
    "      return self.l*self.b\n",
    "r = Rectangle(10,20)\n",
    "print ('area: ',r.area())"
   ]
  },
  {
   "cell_type": "markdown",
   "id": "b7b30bcf",
   "metadata": {},
   "source": [
    "## Multiple Inheritance Example"
   ]
  },
  {
   "cell_type": "code",
   "execution_count": 10,
   "id": "e35062db",
   "metadata": {},
   "outputs": [
    {
     "name": "stdout",
     "output_type": "stream",
     "text": [
      "D class method is called\n"
     ]
    }
   ],
   "source": [
    "# Python Program for multiple inheritance\n",
    " \n",
    "class A:\n",
    "    def method1(self):\n",
    "        print(\"A class method is called\")\n",
    "       \n",
    "class B(A):\n",
    "    def method1(self):\n",
    "        print(\"B class method is called\")\n",
    " \n",
    "class C(A):\n",
    "    def method1(self):\n",
    "        print(\"C class method is called\") \n",
    "        \n",
    "class D(B, C):\n",
    "    def method1(self):\n",
    "        print(\"D class method is called\")   \n",
    "     \n",
    "d = D()\n",
    "d.method1()"
   ]
  },
  {
   "cell_type": "code",
   "execution_count": null,
   "id": "ff3edc40",
   "metadata": {},
   "outputs": [],
   "source": []
  }
 ],
 "metadata": {
  "kernelspec": {
   "display_name": "Python 3 (ipykernel)",
   "language": "python",
   "name": "python3"
  },
  "language_info": {
   "codemirror_mode": {
    "name": "ipython",
    "version": 3
   },
   "file_extension": ".py",
   "mimetype": "text/x-python",
   "name": "python",
   "nbconvert_exporter": "python",
   "pygments_lexer": "ipython3",
   "version": "3.9.12"
  }
 },
 "nbformat": 4,
 "nbformat_minor": 5
}
