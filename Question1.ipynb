{
 "cells": [
  {
   "cell_type": "code",
   "execution_count": 62,
   "id": "3c66e683",
   "metadata": {},
   "outputs": [
    {
     "name": "stdout",
     "output_type": "stream",
     "text": [
      "this is a screening assisgnment\n",
      "\n",
      "this is a screening assisgnment\n",
      "\n"
     ]
    }
   ],
   "source": [
    "with open(\"example.txt\",\"r\")as file:\n",
    "    file_data= file.read()\n",
    "print(file_data)\n",
    "updated_file=file_data.replace(\"placement\",\"screening\")\n",
    "with open(\"example.txt\",\"w\")as file:\n",
    "    file.write(updated_file)\n",
    "print(updated_file)"
   ]
  },
  {
   "cell_type": "code",
   "execution_count": null,
   "id": "b554dba1",
   "metadata": {},
   "outputs": [],
   "source": []
  },
  {
   "cell_type": "code",
   "execution_count": null,
   "id": "64dd935a",
   "metadata": {},
   "outputs": [],
   "source": []
  },
  {
   "cell_type": "code",
   "execution_count": null,
   "id": "90e46c18",
   "metadata": {},
   "outputs": [],
   "source": []
  },
  {
   "cell_type": "code",
   "execution_count": null,
   "id": "199d8242",
   "metadata": {},
   "outputs": [],
   "source": []
  },
  {
   "cell_type": "code",
   "execution_count": null,
   "id": "2043387d",
   "metadata": {},
   "outputs": [],
   "source": []
  }
 ],
 "metadata": {
  "kernelspec": {
   "display_name": "Python 3 (ipykernel)",
   "language": "python",
   "name": "python3"
  },
  "language_info": {
   "codemirror_mode": {
    "name": "ipython",
    "version": 3
   },
   "file_extension": ".py",
   "mimetype": "text/x-python",
   "name": "python",
   "nbconvert_exporter": "python",
   "pygments_lexer": "ipython3",
   "version": "3.9.12"
  }
 },
 "nbformat": 4,
 "nbformat_minor": 5
}
